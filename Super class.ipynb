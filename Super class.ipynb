{
 "cells": [
  {
   "cell_type": "code",
   "execution_count": 11,
   "metadata": {},
   "outputs": [],
   "source": [
    "#we use super class in order to be safe from method overriding. \n",
    "#So using super, we refer to the immediate parent class\n",
    "\n",
    "class visitor:\n",
    "    region=\"In\"\n",
    "    def __init__(self, first, last, mob):\n",
    "        self.name = first\n",
    "        self.lname = last\n",
    "        self.mob = mob\n",
    "        \n",
    "    def ret_name(self):\n",
    "        return self.name + \" \" + self.lname\n",
    "    \n",
    "    def set_mobile(self, newmob):\n",
    "        self.mob = newmob"
   ]
  },
  {
   "cell_type": "code",
   "execution_count": 12,
   "metadata": {},
   "outputs": [],
   "source": [
    "class emp(visitor):\n",
    "    def __init__(self, first, last, mob, title):\n",
    "        super().__init__(first, last, mob)\n",
    "            #referring to the parent class and fetching the details from there\n",
    "        self.jobtitle = title"
   ]
  },
  {
   "cell_type": "code",
   "execution_count": 13,
   "metadata": {},
   "outputs": [],
   "source": [
    "a1 = emp(\"ankit\", \"pramanik\", 9804, \"Manager\")"
   ]
  },
  {
   "cell_type": "code",
   "execution_count": 14,
   "metadata": {},
   "outputs": [
    {
     "data": {
      "text/plain": [
       "'ankit pramanik'"
      ]
     },
     "execution_count": 14,
     "metadata": {},
     "output_type": "execute_result"
    }
   ],
   "source": [
    "a1.ret_name()"
   ]
  },
  {
   "cell_type": "code",
   "execution_count": 15,
   "metadata": {},
   "outputs": [
    {
     "data": {
      "text/plain": [
       "'In'"
      ]
     },
     "execution_count": 15,
     "metadata": {},
     "output_type": "execute_result"
    }
   ],
   "source": [
    "a1.region"
   ]
  },
  {
   "cell_type": "code",
   "execution_count": null,
   "metadata": {},
   "outputs": [],
   "source": []
  }
 ],
 "metadata": {
  "kernelspec": {
   "display_name": "Python 3",
   "language": "python",
   "name": "python3"
  },
  "language_info": {
   "codemirror_mode": {
    "name": "ipython",
    "version": 3
   },
   "file_extension": ".py",
   "mimetype": "text/x-python",
   "name": "python",
   "nbconvert_exporter": "python",
   "pygments_lexer": "ipython3",
   "version": "3.7.6"
  }
 },
 "nbformat": 4,
 "nbformat_minor": 4
}
